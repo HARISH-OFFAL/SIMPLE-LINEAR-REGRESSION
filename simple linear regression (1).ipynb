{
 "cells": [
  {
   "cell_type": "code",
   "execution_count": null,
   "id": "ee34ddc8-2208-47ed-baaa-f0a2ca03ddf5",
   "metadata": {},
   "outputs": [],
   "source": [
    "# 1. Import necessary libraries\n",
    "import numpy as np\n",
    "import pandas as pd\n",
    "import matplotlib.pyplot as plt\n",
    "from sklearn.model_selection import train_test_split\n",
    "from sklearn.linear_model import LinearRegression\n",
    "\n",
    "# 2. Load the dataset\n",
    "# Make sure salary_data.csv is in the same directory\n",
    "dataset = pd.read_csv('salary_data.csv')\n",
    "X = dataset.iloc[:, :-1].values # Independent variable (YearsExperience)\n",
    "y = dataset.iloc[:, -1].values # Dependent variable (Salary)\n",
    "\n",
    "# 3. Split the dataset into a training and testing set\n",
    "# 80% of the data will be used for training, 20% for testing\n",
    "X_train, X_test, y_train, y_test = train_test_split(X, y, test_size=0.2, random_state=42)\n",
    "\n",
    "# 4. Create and train the linear regression model\n",
    "regressor = LinearRegression()\n",
    "regressor.fit(X_train, y_train)\n",
    "\n",
    "# 5. Make predictions on the test set\n",
    "y_pred = regressor.predict(X_test)\n",
    "\n",
    "# 6. Print the model's coefficients\n",
    "print(f\"Intercept (b0): {regressor.intercept_:.2f}\")\n",
    "print(f\"Coefficient (b1): {regressor.coef_[0]:.2f}\\n\")\n",
    "\n",
    "# 7. Visualize the training set results\n",
    "plt.figure(figsize=(10, 6))\n",
    "plt.scatter(X_train, y_train, color='red', label='Training data')\n",
    "plt.plot(X_train, regressor.predict(X_train), color='blue', label='Regression line')\n",
    "plt.title('Salary vs. Years of Experience (Training Set)')\n",
    "plt.xlabel('Years of Experience')\n",
    "plt.ylabel('Salary')\n",
    "plt.legend()\n",
    "plt.show()\n",
    "\n",
    "# 8. Visualize the testing set results\n",
    "plt.figure(figsize=(10, 6))\n",
    "plt.scatter(X_test, y_test, color='red', label='Testing data')\n",
    "plt.plot(X_train, regressor.predict(X_train), color='blue', label='Regression line (from training)')\n",
    "plt.title('Salary vs. Years of Experience (Test Set)')\n",
    "plt.xlabel('Years of Experience')\n",
    "plt.ylabel('Salary')\n",
    "plt.legend()\n",
    "plt.show()\n",
    "\n",
    "# 9. Predict a new value (optional)\n",
    "new_experience = [[12]] # Must be a 2D array\n",
    "predicted_salary = regressor.predict(new_experience)\n",
    "print(f\"Predicted salary for 12 years of experience: ${predicted_salary[0]:,.2f}\")\n"
   ]
  }
 ],
 "metadata": {
  "kernelspec": {
   "display_name": "Python [conda env:base] *",
   "language": "python",
   "name": "conda-base-py"
  },
  "language_info": {
   "codemirror_mode": {
    "name": "ipython",
    "version": 3
   },
   "file_extension": ".py",
   "mimetype": "text/x-python",
   "name": "python",
   "nbconvert_exporter": "python",
   "pygments_lexer": "ipython3",
   "version": "3.12.7"
  }
 },
 "nbformat": 4,
 "nbformat_minor": 5
}
